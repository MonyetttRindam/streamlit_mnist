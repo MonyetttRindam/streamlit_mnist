{
  "cells": [
    {
      "cell_type": "code",
      "source": [
        "import streamlit as st\n",
        "import numpy as np\n",
        "import tensorflow as tf\n",
        "from PIL import Image, ImageOps\n",
        "import cv2\n",
        "\n",
        "# Load model\n",
        "model = tf.keras.models.load_model('mnist_model.h5')\n",
        "\n",
        "st.title(\"MNIST Digit Classifier\")\n",
        "st.write(\"Gambar angka (0-9) di bawah ini!\")\n",
        "\n",
        "# Upload gambar\n",
        "uploaded_file = st.file_uploader(\"Upload gambar angka (png/jpg)\", type=[\"png\", \"jpg\", \"jpeg\"])\n",
        "\n",
        "if uploaded_file is not None:\n",
        "    # Tampilkan gambar asli\n",
        "    image = Image.open(uploaded_file).convert('L')  # Convert to grayscale\n",
        "    st.image(image, caption='Gambar yang diupload', use_column_width=True)\n",
        "\n",
        "    # Preprocess gambar (resize ke 28x28)\n",
        "    image = ImageOps.invert(image)  # Balik warna: putih jadi hitam\n",
        "    image = image.resize((28, 28))\n",
        "    image_array = np.array(image)\n",
        "\n",
        "    # Normalisasi\n",
        "    image_array = image_array / 255.0\n",
        "\n",
        "    # Bentuk input: (1, 28, 28, 1)\n",
        "    image_array = image_array.reshape(1, 28, 28, 1)\n",
        "\n",
        "    # Prediksi\n",
        "    prediction = model.predict(image_array)\n",
        "    predicted_class = np.argmax(prediction)\n",
        "\n",
        "    st.write(f\"Prediksi: **{predicted_clas_**\n"
      ],
      "metadata": {
        "colab": {
          "base_uri": "https://localhost:8080/",
          "height": 106
        },
        "id": "Mzb1V5kF63wW",
        "outputId": "89a9c652-8d7b-4f72-b363-9536169aa276"
      },
      "execution_count": 1,
      "outputs": [
        {
          "output_type": "error",
          "ename": "SyntaxError",
          "evalue": "unterminated string literal (detected at line 36) (ipython-input-2122320015.py, line 36)",
          "traceback": [
            "\u001b[0;36m  File \u001b[0;32m\"/tmp/ipython-input-2122320015.py\"\u001b[0;36m, line \u001b[0;32m36\u001b[0m\n\u001b[0;31m    st.write(f\"Prediksi: **{predicted_clas_**\u001b[0m\n\u001b[0m             ^\u001b[0m\n\u001b[0;31mSyntaxError\u001b[0m\u001b[0;31m:\u001b[0m unterminated string literal (detected at line 36)\n"
          ]
        }
      ]
    }
  ],
  "metadata": {
    "colab": {
      "name": "Selamat Datang di Colab",
      "provenance": []
    },
    "kernelspec": {
      "display_name": "Python 3",
      "name": "python3"
    }
  },
  "nbformat": 4,
  "nbformat_minor": 0
}